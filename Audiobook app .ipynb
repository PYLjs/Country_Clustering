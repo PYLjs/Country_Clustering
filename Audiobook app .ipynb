{
 "cells": [
  {
   "cell_type": "markdown",
   "metadata": {},
   "source": [
    "# <center><u>Audiobook App</u></center>"
   ]
  },
  {
   "cell_type": "code",
   "execution_count": 2,
   "metadata": {},
   "outputs": [],
   "source": [
    "import pandas as pd \n",
    "import numpy as np\n",
    "import matplotlib.pyplot as plt\n",
    "import seaborn as sns "
   ]
  },
  {
   "cell_type": "code",
   "execution_count": 3,
   "metadata": {},
   "outputs": [
    {
     "data": {
      "text/html": [
       "<div>\n",
       "<style scoped>\n",
       "    .dataframe tbody tr th:only-of-type {\n",
       "        vertical-align: middle;\n",
       "    }\n",
       "\n",
       "    .dataframe tbody tr th {\n",
       "        vertical-align: top;\n",
       "    }\n",
       "\n",
       "    .dataframe thead th {\n",
       "        text-align: right;\n",
       "    }\n",
       "</style>\n",
       "<table border=\"1\" class=\"dataframe\">\n",
       "  <thead>\n",
       "    <tr style=\"text-align: right;\">\n",
       "      <th></th>\n",
       "      <th>Unnamed: 0</th>\n",
       "      <th>Book_length(mins)_overall</th>\n",
       "      <th>Book_length(mins)_avg</th>\n",
       "      <th>Price_overall</th>\n",
       "      <th>Price_avg</th>\n",
       "      <th>Review</th>\n",
       "      <th>Review10/10</th>\n",
       "      <th>Completion</th>\n",
       "      <th>Minutes_listened</th>\n",
       "      <th>Support_Request</th>\n",
       "      <th>Last_Visited_mins_Purchase_date</th>\n",
       "      <th>Target</th>\n",
       "    </tr>\n",
       "  </thead>\n",
       "  <tbody>\n",
       "    <tr>\n",
       "      <th>0</th>\n",
       "      <td>994</td>\n",
       "      <td>1620.0</td>\n",
       "      <td>1620</td>\n",
       "      <td>19.73</td>\n",
       "      <td>19.73</td>\n",
       "      <td>1</td>\n",
       "      <td>10.00</td>\n",
       "      <td>0.99</td>\n",
       "      <td>1603.8</td>\n",
       "      <td>5</td>\n",
       "      <td>92</td>\n",
       "      <td>0</td>\n",
       "    </tr>\n",
       "    <tr>\n",
       "      <th>1</th>\n",
       "      <td>1143</td>\n",
       "      <td>2160.0</td>\n",
       "      <td>2160</td>\n",
       "      <td>5.33</td>\n",
       "      <td>5.33</td>\n",
       "      <td>0</td>\n",
       "      <td>8.91</td>\n",
       "      <td>0.00</td>\n",
       "      <td>0.0</td>\n",
       "      <td>0</td>\n",
       "      <td>0</td>\n",
       "      <td>0</td>\n",
       "    </tr>\n",
       "    <tr>\n",
       "      <th>2</th>\n",
       "      <td>2059</td>\n",
       "      <td>2160.0</td>\n",
       "      <td>2160</td>\n",
       "      <td>5.33</td>\n",
       "      <td>5.33</td>\n",
       "      <td>0</td>\n",
       "      <td>8.91</td>\n",
       "      <td>0.00</td>\n",
       "      <td>0.0</td>\n",
       "      <td>0</td>\n",
       "      <td>388</td>\n",
       "      <td>0</td>\n",
       "    </tr>\n",
       "    <tr>\n",
       "      <th>3</th>\n",
       "      <td>2882</td>\n",
       "      <td>1620.0</td>\n",
       "      <td>1620</td>\n",
       "      <td>5.96</td>\n",
       "      <td>5.96</td>\n",
       "      <td>0</td>\n",
       "      <td>8.91</td>\n",
       "      <td>0.42</td>\n",
       "      <td>680.4</td>\n",
       "      <td>1</td>\n",
       "      <td>129</td>\n",
       "      <td>0</td>\n",
       "    </tr>\n",
       "    <tr>\n",
       "      <th>4</th>\n",
       "      <td>3342</td>\n",
       "      <td>2160.0</td>\n",
       "      <td>2160</td>\n",
       "      <td>5.33</td>\n",
       "      <td>5.33</td>\n",
       "      <td>0</td>\n",
       "      <td>8.91</td>\n",
       "      <td>0.22</td>\n",
       "      <td>475.2</td>\n",
       "      <td>0</td>\n",
       "      <td>361</td>\n",
       "      <td>0</td>\n",
       "    </tr>\n",
       "  </tbody>\n",
       "</table>\n",
       "</div>"
      ],
      "text/plain": [
       "   Unnamed: 0  Book_length(mins)_overall  Book_length(mins)_avg  \\\n",
       "0         994                     1620.0                   1620   \n",
       "1        1143                     2160.0                   2160   \n",
       "2        2059                     2160.0                   2160   \n",
       "3        2882                     1620.0                   1620   \n",
       "4        3342                     2160.0                   2160   \n",
       "\n",
       "   Price_overall  Price_avg  Review  Review10/10  Completion  \\\n",
       "0          19.73      19.73       1        10.00        0.99   \n",
       "1           5.33       5.33       0         8.91        0.00   \n",
       "2           5.33       5.33       0         8.91        0.00   \n",
       "3           5.96       5.96       0         8.91        0.42   \n",
       "4           5.33       5.33       0         8.91        0.22   \n",
       "\n",
       "   Minutes_listened  Support_Request  Last_Visited_mins_Purchase_date  Target  \n",
       "0            1603.8                5                               92       0  \n",
       "1               0.0                0                                0       0  \n",
       "2               0.0                0                              388       0  \n",
       "3             680.4                1                              129       0  \n",
       "4             475.2                0                              361       0  "
      ]
     },
     "execution_count": 3,
     "metadata": {},
     "output_type": "execute_result"
    }
   ],
   "source": [
    "df = pd.read_csv('audiobook.csv')\n",
    "df.head()"
   ]
  },
  {
   "cell_type": "code",
   "execution_count": 4,
   "metadata": {},
   "outputs": [
    {
     "data": {
      "text/html": [
       "<div>\n",
       "<style scoped>\n",
       "    .dataframe tbody tr th:only-of-type {\n",
       "        vertical-align: middle;\n",
       "    }\n",
       "\n",
       "    .dataframe tbody tr th {\n",
       "        vertical-align: top;\n",
       "    }\n",
       "\n",
       "    .dataframe thead th {\n",
       "        text-align: right;\n",
       "    }\n",
       "</style>\n",
       "<table border=\"1\" class=\"dataframe\">\n",
       "  <thead>\n",
       "    <tr style=\"text-align: right;\">\n",
       "      <th></th>\n",
       "      <th>Book_length(mins)_overall</th>\n",
       "      <th>Book_length(mins)_avg</th>\n",
       "      <th>Price_overall</th>\n",
       "      <th>Price_avg</th>\n",
       "      <th>Review</th>\n",
       "      <th>Completion</th>\n",
       "      <th>Minutes_listened</th>\n",
       "      <th>Support_Request</th>\n",
       "      <th>Last_Visited_mins_Purchase_date</th>\n",
       "      <th>Target</th>\n",
       "    </tr>\n",
       "  </thead>\n",
       "  <tbody>\n",
       "    <tr>\n",
       "      <th>0</th>\n",
       "      <td>1620.0</td>\n",
       "      <td>1620</td>\n",
       "      <td>19.73</td>\n",
       "      <td>19.73</td>\n",
       "      <td>1</td>\n",
       "      <td>0.99</td>\n",
       "      <td>1603.8</td>\n",
       "      <td>5</td>\n",
       "      <td>92</td>\n",
       "      <td>0</td>\n",
       "    </tr>\n",
       "  </tbody>\n",
       "</table>\n",
       "</div>"
      ],
      "text/plain": [
       "   Book_length(mins)_overall  Book_length(mins)_avg  Price_overall  Price_avg  \\\n",
       "0                     1620.0                   1620          19.73      19.73   \n",
       "\n",
       "   Review  Completion  Minutes_listened  Support_Request  \\\n",
       "0       1        0.99            1603.8                5   \n",
       "\n",
       "   Last_Visited_mins_Purchase_date  Target  \n",
       "0                               92       0  "
      ]
     },
     "execution_count": 4,
     "metadata": {},
     "output_type": "execute_result"
    }
   ],
   "source": [
    "df.drop(['Unnamed: 0','Review10/10'],axis=1,inplace=True)\n",
    "df.head(1)"
   ]
  },
  {
   "cell_type": "code",
   "execution_count": 5,
   "metadata": {},
   "outputs": [
    {
     "name": "stdout",
     "output_type": "stream",
     "text": [
      "<class 'pandas.core.frame.DataFrame'>\n",
      "RangeIndex: 14084 entries, 0 to 14083\n",
      "Data columns (total 10 columns):\n",
      " #   Column                           Non-Null Count  Dtype  \n",
      "---  ------                           --------------  -----  \n",
      " 0   Book_length(mins)_overall        14084 non-null  float64\n",
      " 1   Book_length(mins)_avg            14084 non-null  int64  \n",
      " 2   Price_overall                    14084 non-null  float64\n",
      " 3   Price_avg                        14084 non-null  float64\n",
      " 4   Review                           14084 non-null  int64  \n",
      " 5   Completion                       14084 non-null  float64\n",
      " 6   Minutes_listened                 14084 non-null  float64\n",
      " 7   Support_Request                  14084 non-null  int64  \n",
      " 8   Last_Visited_mins_Purchase_date  14084 non-null  int64  \n",
      " 9   Target                           14084 non-null  int64  \n",
      "dtypes: float64(5), int64(5)\n",
      "memory usage: 1.1 MB\n"
     ]
    }
   ],
   "source": [
    "df.info()"
   ]
  },
  {
   "cell_type": "code",
   "execution_count": 6,
   "metadata": {},
   "outputs": [],
   "source": [
    "df = df.rename(columns={\"Book_length(mins)_overall\":\"Book_length_avg\",\n",
    "                        \"Book_length(mins)_avg\":\"Book_length_overall\",\n",
    "                        \"Price_overall\":\"Price_avg\",\n",
    "                        \"Price_avg\":\"Price_overall\",\n",
    "                       \"Last_Visited_mins_Purchase_date\":\"LastVisite_vs_PurchaseDate\"})"
   ]
  },
  {
   "cell_type": "code",
   "execution_count": 7,
   "metadata": {},
   "outputs": [
    {
     "data": {
      "text/html": [
       "<div>\n",
       "<style scoped>\n",
       "    .dataframe tbody tr th:only-of-type {\n",
       "        vertical-align: middle;\n",
       "    }\n",
       "\n",
       "    .dataframe tbody tr th {\n",
       "        vertical-align: top;\n",
       "    }\n",
       "\n",
       "    .dataframe thead th {\n",
       "        text-align: right;\n",
       "    }\n",
       "</style>\n",
       "<table border=\"1\" class=\"dataframe\">\n",
       "  <thead>\n",
       "    <tr style=\"text-align: right;\">\n",
       "      <th></th>\n",
       "      <th>Book_length_avg</th>\n",
       "      <th>Book_length_overall</th>\n",
       "      <th>Price_avg</th>\n",
       "      <th>Price_overall</th>\n",
       "      <th>Review</th>\n",
       "      <th>Completion</th>\n",
       "      <th>Minutes_listened</th>\n",
       "      <th>Support_Request</th>\n",
       "      <th>LastVisite_vs_PurchaseDate</th>\n",
       "      <th>Target</th>\n",
       "    </tr>\n",
       "  </thead>\n",
       "  <tbody>\n",
       "    <tr>\n",
       "      <th>0</th>\n",
       "      <td>1620.0</td>\n",
       "      <td>1620</td>\n",
       "      <td>19.73</td>\n",
       "      <td>19.73</td>\n",
       "      <td>1</td>\n",
       "      <td>0.99</td>\n",
       "      <td>1603.8</td>\n",
       "      <td>5</td>\n",
       "      <td>92</td>\n",
       "      <td>0</td>\n",
       "    </tr>\n",
       "  </tbody>\n",
       "</table>\n",
       "</div>"
      ],
      "text/plain": [
       "   Book_length_avg  Book_length_overall  Price_avg  Price_overall  Review  \\\n",
       "0           1620.0                 1620      19.73          19.73       1   \n",
       "\n",
       "   Completion  Minutes_listened  Support_Request  LastVisite_vs_PurchaseDate  \\\n",
       "0        0.99            1603.8                5                          92   \n",
       "\n",
       "   Target  \n",
       "0       0  "
      ]
     },
     "execution_count": 7,
     "metadata": {},
     "output_type": "execute_result"
    }
   ],
   "source": [
    "df.head(1)"
   ]
  },
  {
   "cell_type": "code",
   "execution_count": 8,
   "metadata": {},
   "outputs": [],
   "source": [
    "df['Rebuy'] = df['Book_length_overall']/df['Book_length_avg']\n",
    "df['Number_of_purchases'] = round(df['Price_overall']/df['Price_avg'])\n"
   ]
  },
  {
   "cell_type": "code",
   "execution_count": 9,
   "metadata": {},
   "outputs": [],
   "source": [
    "def higher1(x):\n",
    "    if x>1:\n",
    "        return 1\n",
    "    else:\n",
    "        return 0 \n",
    "    \n",
    "######################\n",
    "\n",
    "def higher0(x):\n",
    "    if x>0:\n",
    "        return 1\n",
    "    else:\n",
    "        return 0 \n"
   ]
  },
  {
   "cell_type": "code",
   "execution_count": 10,
   "metadata": {},
   "outputs": [],
   "source": [
    "df['Rebuy'] = df['Rebuy'].apply(higher1)\n",
    "df['Listened'] = df['Completion'].apply(higher0)"
   ]
  },
  {
   "cell_type": "code",
   "execution_count": 11,
   "metadata": {},
   "outputs": [
    {
     "data": {
      "text/html": [
       "<div>\n",
       "<style scoped>\n",
       "    .dataframe tbody tr th:only-of-type {\n",
       "        vertical-align: middle;\n",
       "    }\n",
       "\n",
       "    .dataframe tbody tr th {\n",
       "        vertical-align: top;\n",
       "    }\n",
       "\n",
       "    .dataframe thead th {\n",
       "        text-align: right;\n",
       "    }\n",
       "</style>\n",
       "<table border=\"1\" class=\"dataframe\">\n",
       "  <thead>\n",
       "    <tr style=\"text-align: right;\">\n",
       "      <th></th>\n",
       "      <th>Book_length_avg</th>\n",
       "      <th>Book_length_overall</th>\n",
       "      <th>Price_avg</th>\n",
       "      <th>Price_overall</th>\n",
       "      <th>Review</th>\n",
       "      <th>Completion</th>\n",
       "      <th>Minutes_listened</th>\n",
       "      <th>Support_Request</th>\n",
       "      <th>LastVisite_vs_PurchaseDate</th>\n",
       "      <th>Target</th>\n",
       "      <th>Rebuy</th>\n",
       "      <th>Number_of_purchases</th>\n",
       "      <th>Listened</th>\n",
       "    </tr>\n",
       "  </thead>\n",
       "  <tbody>\n",
       "    <tr>\n",
       "      <th>0</th>\n",
       "      <td>1620.0</td>\n",
       "      <td>1620</td>\n",
       "      <td>19.73</td>\n",
       "      <td>19.73</td>\n",
       "      <td>1</td>\n",
       "      <td>0.99</td>\n",
       "      <td>1603.8</td>\n",
       "      <td>5</td>\n",
       "      <td>92</td>\n",
       "      <td>0</td>\n",
       "      <td>0</td>\n",
       "      <td>1.0</td>\n",
       "      <td>1</td>\n",
       "    </tr>\n",
       "    <tr>\n",
       "      <th>1</th>\n",
       "      <td>2160.0</td>\n",
       "      <td>2160</td>\n",
       "      <td>5.33</td>\n",
       "      <td>5.33</td>\n",
       "      <td>0</td>\n",
       "      <td>0.00</td>\n",
       "      <td>0.0</td>\n",
       "      <td>0</td>\n",
       "      <td>0</td>\n",
       "      <td>0</td>\n",
       "      <td>0</td>\n",
       "      <td>1.0</td>\n",
       "      <td>0</td>\n",
       "    </tr>\n",
       "    <tr>\n",
       "      <th>2</th>\n",
       "      <td>2160.0</td>\n",
       "      <td>2160</td>\n",
       "      <td>5.33</td>\n",
       "      <td>5.33</td>\n",
       "      <td>0</td>\n",
       "      <td>0.00</td>\n",
       "      <td>0.0</td>\n",
       "      <td>0</td>\n",
       "      <td>388</td>\n",
       "      <td>0</td>\n",
       "      <td>0</td>\n",
       "      <td>1.0</td>\n",
       "      <td>0</td>\n",
       "    </tr>\n",
       "    <tr>\n",
       "      <th>3</th>\n",
       "      <td>1620.0</td>\n",
       "      <td>1620</td>\n",
       "      <td>5.96</td>\n",
       "      <td>5.96</td>\n",
       "      <td>0</td>\n",
       "      <td>0.42</td>\n",
       "      <td>680.4</td>\n",
       "      <td>1</td>\n",
       "      <td>129</td>\n",
       "      <td>0</td>\n",
       "      <td>0</td>\n",
       "      <td>1.0</td>\n",
       "      <td>1</td>\n",
       "    </tr>\n",
       "    <tr>\n",
       "      <th>4</th>\n",
       "      <td>2160.0</td>\n",
       "      <td>2160</td>\n",
       "      <td>5.33</td>\n",
       "      <td>5.33</td>\n",
       "      <td>0</td>\n",
       "      <td>0.22</td>\n",
       "      <td>475.2</td>\n",
       "      <td>0</td>\n",
       "      <td>361</td>\n",
       "      <td>0</td>\n",
       "      <td>0</td>\n",
       "      <td>1.0</td>\n",
       "      <td>1</td>\n",
       "    </tr>\n",
       "  </tbody>\n",
       "</table>\n",
       "</div>"
      ],
      "text/plain": [
       "   Book_length_avg  Book_length_overall  Price_avg  Price_overall  Review  \\\n",
       "0           1620.0                 1620      19.73          19.73       1   \n",
       "1           2160.0                 2160       5.33           5.33       0   \n",
       "2           2160.0                 2160       5.33           5.33       0   \n",
       "3           1620.0                 1620       5.96           5.96       0   \n",
       "4           2160.0                 2160       5.33           5.33       0   \n",
       "\n",
       "   Completion  Minutes_listened  Support_Request  LastVisite_vs_PurchaseDate  \\\n",
       "0        0.99            1603.8                5                          92   \n",
       "1        0.00               0.0                0                           0   \n",
       "2        0.00               0.0                0                         388   \n",
       "3        0.42             680.4                1                         129   \n",
       "4        0.22             475.2                0                         361   \n",
       "\n",
       "   Target  Rebuy  Number_of_purchases  Listened  \n",
       "0       0      0                  1.0         1  \n",
       "1       0      0                  1.0         0  \n",
       "2       0      0                  1.0         0  \n",
       "3       0      0                  1.0         1  \n",
       "4       0      0                  1.0         1  "
      ]
     },
     "execution_count": 11,
     "metadata": {},
     "output_type": "execute_result"
    }
   ],
   "source": [
    "df.head()"
   ]
  },
  {
   "cell_type": "code",
   "execution_count": 59,
   "metadata": {},
   "outputs": [
    {
     "data": {
      "image/png": "[encoded data removed]",
      "text/plain": [
       "<Figure size 1584x792 with 4 Axes>"
      ]
     },
     "metadata": {
      "needs_background": "light"
     },
     "output_type": "display_data"
    }
   ],
   "source": [
    "fig,axes=plt.subplots(2,2,figsize=(22,11))\n",
    "\n",
    "fig1 = sns.boxplot(ax=axes[1,1],x='Review',y='Completion',data=df,palette=\"cubehelix\")\n",
    "\n",
    "colors = ['#F29C3B','#D72D2D']\n",
    "fig2 = df['Listened'].value_counts().plot.pie(ax=axes[1,0],autopct=\"%1.1f%%\",colors=colors)\n",
    "\n",
    "fig3 = df['Completion'].plot.hist(ax=axes[0,0],bins=30,Edgecolor='black',color='#06D73A',zorder=3)\n",
    "fig3.set_xlabel('Percentage of completion')\n",
    "fig3.grid(axis = 'y', linestyle = '--', linewidth = 1, zorder=0)\n",
    "\n",
    "fig4 = sns.distplot(df['Minutes_listened'],ax=axes[0,1],color=\"darkblue\")"
   ]
  },
  {
   "cell_type": "code",
   "execution_count": 11,
   "metadata": {},
   "outputs": [
    {
     "name": "stdout",
     "output_type": "stream",
     "text": [
      "<class 'pandas.core.frame.DataFrame'>\n",
      "RangeIndex: 14084 entries, 0 to 14083\n",
      "Data columns (total 13 columns):\n",
      " #   Column                      Non-Null Count  Dtype  \n",
      "---  ------                      --------------  -----  \n",
      " 0   Book_length_avg             14084 non-null  float64\n",
      " 1   Book_length_overall         14084 non-null  int64  \n",
      " 2   Price_avg                   14084 non-null  float64\n",
      " 3   Price_overall               14084 non-null  float64\n",
      " 4   Review                      14084 non-null  int64  \n",
      " 5   Completion                  14084 non-null  float64\n",
      " 6   Minutes_listened            14084 non-null  float64\n",
      " 7   Support_Request             14084 non-null  int64  \n",
      " 8   LastVisite_vs_PurchaseDate  14084 non-null  int64  \n",
      " 9   Target                      14084 non-null  int64  \n",
      " 10  Rebuy                       14084 non-null  int64  \n",
      " 11  Number_of_purchases         14084 non-null  float64\n",
      " 12  Listened                    14084 non-null  int64  \n",
      "dtypes: float64(6), int64(7)\n",
      "memory usage: 1.4 MB\n"
     ]
    }
   ],
   "source": [
    "df.info()"
   ]
  },
  {
   "cell_type": "code",
   "execution_count": 12,
   "metadata": {},
   "outputs": [
    {
     "data": {
      "text/plain": [
       "0        1\n",
       "1        1\n",
       "2        1\n",
       "3        1\n",
       "4        1\n",
       "        ..\n",
       "14079    1\n",
       "14080    1\n",
       "14081    1\n",
       "14082    1\n",
       "14083    2\n",
       "Name: Number_of_purchases, Length: 14084, dtype: int8"
      ]
     },
     "execution_count": 12,
     "metadata": {},
     "output_type": "execute_result"
    }
   ],
   "source": [
    "df['Book_length_avg'].astype('int64')\n",
    "df['Number_of_purchases'].astype('int8')"
   ]
  },
  {
   "cell_type": "code",
   "execution_count": 13,
   "metadata": {},
   "outputs": [
    {
     "data": {
      "text/html": [
       "<div>\n",
       "<style scoped>\n",
       "    .dataframe tbody tr th:only-of-type {\n",
       "        vertical-align: middle;\n",
       "    }\n",
       "\n",
       "    .dataframe tbody tr th {\n",
       "        vertical-align: top;\n",
       "    }\n",
       "\n",
       "    .dataframe thead th {\n",
       "        text-align: right;\n",
       "    }\n",
       "</style>\n",
       "<table border=\"1\" class=\"dataframe\">\n",
       "  <thead>\n",
       "    <tr style=\"text-align: right;\">\n",
       "      <th></th>\n",
       "      <th>Book_length_avg</th>\n",
       "      <th>Book_length_overall</th>\n",
       "      <th>Price_avg</th>\n",
       "      <th>Price_overall</th>\n",
       "      <th>Review</th>\n",
       "      <th>Completion</th>\n",
       "      <th>Minutes_listened</th>\n",
       "      <th>Support_Request</th>\n",
       "      <th>LastVisite_vs_PurchaseDate</th>\n",
       "      <th>Target</th>\n",
       "      <th>Rebuy</th>\n",
       "      <th>Number_of_purchases</th>\n",
       "      <th>Listened</th>\n",
       "    </tr>\n",
       "  </thead>\n",
       "  <tbody>\n",
       "    <tr>\n",
       "      <th>0</th>\n",
       "      <td>0.722222</td>\n",
       "      <td>0.206349</td>\n",
       "      <td>0.124882</td>\n",
       "      <td>0.124882</td>\n",
       "      <td>1.0</td>\n",
       "      <td>0.99</td>\n",
       "      <td>0.7425</td>\n",
       "      <td>0.166667</td>\n",
       "      <td>0.198276</td>\n",
       "      <td>0.0</td>\n",
       "      <td>0.0</td>\n",
       "      <td>0.0</td>\n",
       "      <td>1.0</td>\n",
       "    </tr>\n",
       "    <tr>\n",
       "      <th>1</th>\n",
       "      <td>1.000000</td>\n",
       "      <td>0.285714</td>\n",
       "      <td>0.011568</td>\n",
       "      <td>0.011568</td>\n",
       "      <td>0.0</td>\n",
       "      <td>0.00</td>\n",
       "      <td>0.0000</td>\n",
       "      <td>0.000000</td>\n",
       "      <td>0.000000</td>\n",
       "      <td>0.0</td>\n",
       "      <td>0.0</td>\n",
       "      <td>0.0</td>\n",
       "      <td>0.0</td>\n",
       "    </tr>\n",
       "    <tr>\n",
       "      <th>2</th>\n",
       "      <td>1.000000</td>\n",
       "      <td>0.285714</td>\n",
       "      <td>0.011568</td>\n",
       "      <td>0.011568</td>\n",
       "      <td>0.0</td>\n",
       "      <td>0.00</td>\n",
       "      <td>0.0000</td>\n",
       "      <td>0.000000</td>\n",
       "      <td>0.836207</td>\n",
       "      <td>0.0</td>\n",
       "      <td>0.0</td>\n",
       "      <td>0.0</td>\n",
       "      <td>0.0</td>\n",
       "    </tr>\n",
       "    <tr>\n",
       "      <th>3</th>\n",
       "      <td>0.722222</td>\n",
       "      <td>0.206349</td>\n",
       "      <td>0.016525</td>\n",
       "      <td>0.016525</td>\n",
       "      <td>0.0</td>\n",
       "      <td>0.42</td>\n",
       "      <td>0.3150</td>\n",
       "      <td>0.033333</td>\n",
       "      <td>0.278017</td>\n",
       "      <td>0.0</td>\n",
       "      <td>0.0</td>\n",
       "      <td>0.0</td>\n",
       "      <td>1.0</td>\n",
       "    </tr>\n",
       "    <tr>\n",
       "      <th>4</th>\n",
       "      <td>1.000000</td>\n",
       "      <td>0.285714</td>\n",
       "      <td>0.011568</td>\n",
       "      <td>0.011568</td>\n",
       "      <td>0.0</td>\n",
       "      <td>0.22</td>\n",
       "      <td>0.2200</td>\n",
       "      <td>0.000000</td>\n",
       "      <td>0.778017</td>\n",
       "      <td>0.0</td>\n",
       "      <td>0.0</td>\n",
       "      <td>0.0</td>\n",
       "      <td>1.0</td>\n",
       "    </tr>\n",
       "  </tbody>\n",
       "</table>\n",
       "</div>"
      ],
      "text/plain": [
       "   Book_length_avg  Book_length_overall  Price_avg  Price_overall  Review  \\\n",
       "0         0.722222             0.206349   0.124882       0.124882     1.0   \n",
       "1         1.000000             0.285714   0.011568       0.011568     0.0   \n",
       "2         1.000000             0.285714   0.011568       0.011568     0.0   \n",
       "3         0.722222             0.206349   0.016525       0.016525     0.0   \n",
       "4         1.000000             0.285714   0.011568       0.011568     0.0   \n",
       "\n",
       "   Completion  Minutes_listened  Support_Request  LastVisite_vs_PurchaseDate  \\\n",
       "0        0.99            0.7425         0.166667                    0.198276   \n",
       "1        0.00            0.0000         0.000000                    0.000000   \n",
       "2        0.00            0.0000         0.000000                    0.836207   \n",
       "3        0.42            0.3150         0.033333                    0.278017   \n",
       "4        0.22            0.2200         0.000000                    0.778017   \n",
       "\n",
       "   Target  Rebuy  Number_of_purchases  Listened  \n",
       "0     0.0    0.0                  0.0       1.0  \n",
       "1     0.0    0.0                  0.0       0.0  \n",
       "2     0.0    0.0                  0.0       0.0  \n",
       "3     0.0    0.0                  0.0       1.0  \n",
       "4     0.0    0.0                  0.0       1.0  "
      ]
     },
     "execution_count": 13,
     "metadata": {},
     "output_type": "execute_result"
    }
   ],
   "source": [
    "df2 = df.copy()\n",
    "df2 = (df2-df2.min())/(df2.max()-df2.min())\n",
    "df2.head()"
   ]
  },
  {
   "cell_type": "code",
   "execution_count": 14,
   "metadata": {},
   "outputs": [],
   "source": [
    "df2 = df2.drop_duplicates()"
   ]
  },
  {
   "cell_type": "code",
   "execution_count": 15,
   "metadata": {},
   "outputs": [
    {
     "data": {
      "text/plain": [
       "<matplotlib.axes._subplots.AxesSubplot at 0x1d7f0a6a640>"
      ]
     },
     "execution_count": 15,
     "metadata": {},
     "output_type": "execute_result"
    },
    {
     "data": {
      "image/png": "[encoded data removed]",
      "text/plain": [
       "<Figure size 1440x864 with 2 Axes>"
      ]
     },
     "metadata": {
      "needs_background": "light"
     },
     "output_type": "display_data"
    }
   ],
   "source": [
    "plt.figure(figsize=(20,12))\n",
    "sns.heatmap(df2.corr(),annot=True)"
   ]
  },
  {
   "cell_type": "code",
   "execution_count": 16,
   "metadata": {},
   "outputs": [],
   "source": [
    "df3 = df2.corr()[['Target']].abs()\n",
    "df3 = df3.reset_index()"
   ]
  },
  {
   "cell_type": "code",
   "execution_count": 17,
   "metadata": {},
   "outputs": [],
   "source": [
    "df4 = df3.loc[df3['Target']>= 0.2]"
   ]
  },
  {
   "cell_type": "code",
   "execution_count": 18,
   "metadata": {},
   "outputs": [
    {
     "data": {
      "text/html": [
       "<div>\n",
       "<style scoped>\n",
       "    .dataframe tbody tr th:only-of-type {\n",
       "        vertical-align: middle;\n",
       "    }\n",
       "\n",
       "    .dataframe tbody tr th {\n",
       "        vertical-align: top;\n",
       "    }\n",
       "\n",
       "    .dataframe thead th {\n",
       "        text-align: right;\n",
       "    }\n",
       "</style>\n",
       "<table border=\"1\" class=\"dataframe\">\n",
       "  <thead>\n",
       "    <tr style=\"text-align: right;\">\n",
       "      <th></th>\n",
       "      <th>index</th>\n",
       "      <th>Target</th>\n",
       "    </tr>\n",
       "  </thead>\n",
       "  <tbody>\n",
       "    <tr>\n",
       "      <th>1</th>\n",
       "      <td>Book_length_overall</td>\n",
       "      <td>0.299310</td>\n",
       "    </tr>\n",
       "    <tr>\n",
       "      <th>3</th>\n",
       "      <td>Price_overall</td>\n",
       "      <td>0.205041</td>\n",
       "    </tr>\n",
       "    <tr>\n",
       "      <th>5</th>\n",
       "      <td>Completion</td>\n",
       "      <td>0.330627</td>\n",
       "    </tr>\n",
       "    <tr>\n",
       "      <th>6</th>\n",
       "      <td>Minutes_listened</td>\n",
       "      <td>0.323703</td>\n",
       "    </tr>\n",
       "    <tr>\n",
       "      <th>9</th>\n",
       "      <td>Target</td>\n",
       "      <td>1.000000</td>\n",
       "    </tr>\n",
       "    <tr>\n",
       "      <th>10</th>\n",
       "      <td>Rebuy</td>\n",
       "      <td>0.532906</td>\n",
       "    </tr>\n",
       "    <tr>\n",
       "      <th>11</th>\n",
       "      <td>Number_of_purchases</td>\n",
       "      <td>0.466261</td>\n",
       "    </tr>\n",
       "    <tr>\n",
       "      <th>12</th>\n",
       "      <td>Listened</td>\n",
       "      <td>0.591888</td>\n",
       "    </tr>\n",
       "  </tbody>\n",
       "</table>\n",
       "</div>"
      ],
      "text/plain": [
       "                  index    Target\n",
       "1   Book_length_overall  0.299310\n",
       "3         Price_overall  0.205041\n",
       "5            Completion  0.330627\n",
       "6      Minutes_listened  0.323703\n",
       "9                Target  1.000000\n",
       "10                Rebuy  0.532906\n",
       "11  Number_of_purchases  0.466261\n",
       "12             Listened  0.591888"
      ]
     },
     "execution_count": 18,
     "metadata": {},
     "output_type": "execute_result"
    }
   ],
   "source": [
    "df4"
   ]
  },
  {
   "cell_type": "code",
   "execution_count": 19,
   "metadata": {},
   "outputs": [],
   "source": [
    "col_list = []\n",
    "\n",
    "for col in df4['index']:\n",
    "    col_list.append(col)"
   ]
  },
  {
   "cell_type": "code",
   "execution_count": 20,
   "metadata": {},
   "outputs": [],
   "source": [
    "data = df2[col_list]"
   ]
  },
  {
   "cell_type": "code",
   "execution_count": 21,
   "metadata": {},
   "outputs": [
    {
     "data": {
      "text/html": [
       "<div>\n",
       "<style scoped>\n",
       "    .dataframe tbody tr th:only-of-type {\n",
       "        vertical-align: middle;\n",
       "    }\n",
       "\n",
       "    .dataframe tbody tr th {\n",
       "        vertical-align: top;\n",
       "    }\n",
       "\n",
       "    .dataframe thead th {\n",
       "        text-align: right;\n",
       "    }\n",
       "</style>\n",
       "<table border=\"1\" class=\"dataframe\">\n",
       "  <thead>\n",
       "    <tr style=\"text-align: right;\">\n",
       "      <th></th>\n",
       "      <th>Book_length_overall</th>\n",
       "      <th>Price_overall</th>\n",
       "      <th>Completion</th>\n",
       "      <th>Minutes_listened</th>\n",
       "      <th>Target</th>\n",
       "      <th>Rebuy</th>\n",
       "      <th>Number_of_purchases</th>\n",
       "      <th>Listened</th>\n",
       "    </tr>\n",
       "  </thead>\n",
       "  <tbody>\n",
       "    <tr>\n",
       "      <th>0</th>\n",
       "      <td>0.206349</td>\n",
       "      <td>0.124882</td>\n",
       "      <td>0.99</td>\n",
       "      <td>0.7425</td>\n",
       "      <td>0.0</td>\n",
       "      <td>0.0</td>\n",
       "      <td>0.0</td>\n",
       "      <td>1.0</td>\n",
       "    </tr>\n",
       "    <tr>\n",
       "      <th>1</th>\n",
       "      <td>0.285714</td>\n",
       "      <td>0.011568</td>\n",
       "      <td>0.00</td>\n",
       "      <td>0.0000</td>\n",
       "      <td>0.0</td>\n",
       "      <td>0.0</td>\n",
       "      <td>0.0</td>\n",
       "      <td>0.0</td>\n",
       "    </tr>\n",
       "    <tr>\n",
       "      <th>2</th>\n",
       "      <td>0.285714</td>\n",
       "      <td>0.011568</td>\n",
       "      <td>0.00</td>\n",
       "      <td>0.0000</td>\n",
       "      <td>0.0</td>\n",
       "      <td>0.0</td>\n",
       "      <td>0.0</td>\n",
       "      <td>0.0</td>\n",
       "    </tr>\n",
       "    <tr>\n",
       "      <th>3</th>\n",
       "      <td>0.206349</td>\n",
       "      <td>0.016525</td>\n",
       "      <td>0.42</td>\n",
       "      <td>0.3150</td>\n",
       "      <td>0.0</td>\n",
       "      <td>0.0</td>\n",
       "      <td>0.0</td>\n",
       "      <td>1.0</td>\n",
       "    </tr>\n",
       "    <tr>\n",
       "      <th>4</th>\n",
       "      <td>0.285714</td>\n",
       "      <td>0.011568</td>\n",
       "      <td>0.22</td>\n",
       "      <td>0.2200</td>\n",
       "      <td>0.0</td>\n",
       "      <td>0.0</td>\n",
       "      <td>0.0</td>\n",
       "      <td>1.0</td>\n",
       "    </tr>\n",
       "    <tr>\n",
       "      <th>...</th>\n",
       "      <td>...</td>\n",
       "      <td>...</td>\n",
       "      <td>...</td>\n",
       "      <td>...</td>\n",
       "      <td>...</td>\n",
       "      <td>...</td>\n",
       "      <td>...</td>\n",
       "      <td>...</td>\n",
       "    </tr>\n",
       "    <tr>\n",
       "      <th>14077</th>\n",
       "      <td>0.206349</td>\n",
       "      <td>0.021168</td>\n",
       "      <td>0.00</td>\n",
       "      <td>0.0000</td>\n",
       "      <td>0.0</td>\n",
       "      <td>0.0</td>\n",
       "      <td>0.0</td>\n",
       "      <td>0.0</td>\n",
       "    </tr>\n",
       "    <tr>\n",
       "      <th>14078</th>\n",
       "      <td>0.285714</td>\n",
       "      <td>0.032499</td>\n",
       "      <td>0.00</td>\n",
       "      <td>0.0000</td>\n",
       "      <td>0.0</td>\n",
       "      <td>0.0</td>\n",
       "      <td>0.0</td>\n",
       "      <td>0.0</td>\n",
       "    </tr>\n",
       "    <tr>\n",
       "      <th>14079</th>\n",
       "      <td>0.206349</td>\n",
       "      <td>0.011568</td>\n",
       "      <td>0.61</td>\n",
       "      <td>0.4575</td>\n",
       "      <td>0.0</td>\n",
       "      <td>0.0</td>\n",
       "      <td>0.0</td>\n",
       "      <td>1.0</td>\n",
       "    </tr>\n",
       "    <tr>\n",
       "      <th>14080</th>\n",
       "      <td>0.126984</td>\n",
       "      <td>0.021168</td>\n",
       "      <td>0.29</td>\n",
       "      <td>0.1450</td>\n",
       "      <td>0.0</td>\n",
       "      <td>0.0</td>\n",
       "      <td>0.0</td>\n",
       "      <td>1.0</td>\n",
       "    </tr>\n",
       "    <tr>\n",
       "      <th>14082</th>\n",
       "      <td>0.206349</td>\n",
       "      <td>0.011568</td>\n",
       "      <td>0.38</td>\n",
       "      <td>0.2850</td>\n",
       "      <td>0.0</td>\n",
       "      <td>0.0</td>\n",
       "      <td>0.0</td>\n",
       "      <td>1.0</td>\n",
       "    </tr>\n",
       "  </tbody>\n",
       "</table>\n",
       "<p>9270 rows × 8 columns</p>\n",
       "</div>"
      ],
      "text/plain": [
       "       Book_length_overall  Price_overall  Completion  Minutes_listened  \\\n",
       "0                 0.206349       0.124882        0.99            0.7425   \n",
       "1                 0.285714       0.011568        0.00            0.0000   \n",
       "2                 0.285714       0.011568        0.00            0.0000   \n",
       "3                 0.206349       0.016525        0.42            0.3150   \n",
       "4                 0.285714       0.011568        0.22            0.2200   \n",
       "...                    ...            ...         ...               ...   \n",
       "14077             0.206349       0.021168        0.00            0.0000   \n",
       "14078             0.285714       0.032499        0.00            0.0000   \n",
       "14079             0.206349       0.011568        0.61            0.4575   \n",
       "14080             0.126984       0.021168        0.29            0.1450   \n",
       "14082             0.206349       0.011568        0.38            0.2850   \n",
       "\n",
       "       Target  Rebuy  Number_of_purchases  Listened  \n",
       "0         0.0    0.0                  0.0       1.0  \n",
       "1         0.0    0.0                  0.0       0.0  \n",
       "2         0.0    0.0                  0.0       0.0  \n",
       "3         0.0    0.0                  0.0       1.0  \n",
       "4         0.0    0.0                  0.0       1.0  \n",
       "...       ...    ...                  ...       ...  \n",
       "14077     0.0    0.0                  0.0       0.0  \n",
       "14078     0.0    0.0                  0.0       0.0  \n",
       "14079     0.0    0.0                  0.0       1.0  \n",
       "14080     0.0    0.0                  0.0       1.0  \n",
       "14082     0.0    0.0                  0.0       1.0  \n",
       "\n",
       "[9270 rows x 8 columns]"
      ]
     },
     "execution_count": 21,
     "metadata": {},
     "output_type": "execute_result"
    }
   ],
   "source": [
    "data"
   ]
  },
  {
   "cell_type": "code",
   "execution_count": 22,
   "metadata": {},
   "outputs": [],
   "source": [
    "move_column = data.pop(\"Target\")\n",
    "data.insert(7,\"Target\",move_column)"
   ]
  },
  {
   "cell_type": "code",
   "execution_count": 23,
   "metadata": {},
   "outputs": [
    {
     "data": {
      "text/html": [
       "<div>\n",
       "<style scoped>\n",
       "    .dataframe tbody tr th:only-of-type {\n",
       "        vertical-align: middle;\n",
       "    }\n",
       "\n",
       "    .dataframe tbody tr th {\n",
       "        vertical-align: top;\n",
       "    }\n",
       "\n",
       "    .dataframe thead th {\n",
       "        text-align: right;\n",
       "    }\n",
       "</style>\n",
       "<table border=\"1\" class=\"dataframe\">\n",
       "  <thead>\n",
       "    <tr style=\"text-align: right;\">\n",
       "      <th></th>\n",
       "      <th>Book_length_overall</th>\n",
       "      <th>Price_overall</th>\n",
       "      <th>Completion</th>\n",
       "      <th>Minutes_listened</th>\n",
       "      <th>Rebuy</th>\n",
       "      <th>Number_of_purchases</th>\n",
       "      <th>Listened</th>\n",
       "      <th>Target</th>\n",
       "    </tr>\n",
       "  </thead>\n",
       "  <tbody>\n",
       "    <tr>\n",
       "      <th>0</th>\n",
       "      <td>0.206349</td>\n",
       "      <td>0.124882</td>\n",
       "      <td>0.99</td>\n",
       "      <td>0.7425</td>\n",
       "      <td>0.0</td>\n",
       "      <td>0.0</td>\n",
       "      <td>1.0</td>\n",
       "      <td>0.0</td>\n",
       "    </tr>\n",
       "    <tr>\n",
       "      <th>1</th>\n",
       "      <td>0.285714</td>\n",
       "      <td>0.011568</td>\n",
       "      <td>0.00</td>\n",
       "      <td>0.0000</td>\n",
       "      <td>0.0</td>\n",
       "      <td>0.0</td>\n",
       "      <td>0.0</td>\n",
       "      <td>0.0</td>\n",
       "    </tr>\n",
       "    <tr>\n",
       "      <th>2</th>\n",
       "      <td>0.285714</td>\n",
       "      <td>0.011568</td>\n",
       "      <td>0.00</td>\n",
       "      <td>0.0000</td>\n",
       "      <td>0.0</td>\n",
       "      <td>0.0</td>\n",
       "      <td>0.0</td>\n",
       "      <td>0.0</td>\n",
       "    </tr>\n",
       "    <tr>\n",
       "      <th>3</th>\n",
       "      <td>0.206349</td>\n",
       "      <td>0.016525</td>\n",
       "      <td>0.42</td>\n",
       "      <td>0.3150</td>\n",
       "      <td>0.0</td>\n",
       "      <td>0.0</td>\n",
       "      <td>1.0</td>\n",
       "      <td>0.0</td>\n",
       "    </tr>\n",
       "    <tr>\n",
       "      <th>4</th>\n",
       "      <td>0.285714</td>\n",
       "      <td>0.011568</td>\n",
       "      <td>0.22</td>\n",
       "      <td>0.2200</td>\n",
       "      <td>0.0</td>\n",
       "      <td>0.0</td>\n",
       "      <td>1.0</td>\n",
       "      <td>0.0</td>\n",
       "    </tr>\n",
       "    <tr>\n",
       "      <th>...</th>\n",
       "      <td>...</td>\n",
       "      <td>...</td>\n",
       "      <td>...</td>\n",
       "      <td>...</td>\n",
       "      <td>...</td>\n",
       "      <td>...</td>\n",
       "      <td>...</td>\n",
       "      <td>...</td>\n",
       "    </tr>\n",
       "    <tr>\n",
       "      <th>14077</th>\n",
       "      <td>0.206349</td>\n",
       "      <td>0.021168</td>\n",
       "      <td>0.00</td>\n",
       "      <td>0.0000</td>\n",
       "      <td>0.0</td>\n",
       "      <td>0.0</td>\n",
       "      <td>0.0</td>\n",
       "      <td>0.0</td>\n",
       "    </tr>\n",
       "    <tr>\n",
       "      <th>14078</th>\n",
       "      <td>0.285714</td>\n",
       "      <td>0.032499</td>\n",
       "      <td>0.00</td>\n",
       "      <td>0.0000</td>\n",
       "      <td>0.0</td>\n",
       "      <td>0.0</td>\n",
       "      <td>0.0</td>\n",
       "      <td>0.0</td>\n",
       "    </tr>\n",
       "    <tr>\n",
       "      <th>14079</th>\n",
       "      <td>0.206349</td>\n",
       "      <td>0.011568</td>\n",
       "      <td>0.61</td>\n",
       "      <td>0.4575</td>\n",
       "      <td>0.0</td>\n",
       "      <td>0.0</td>\n",
       "      <td>1.0</td>\n",
       "      <td>0.0</td>\n",
       "    </tr>\n",
       "    <tr>\n",
       "      <th>14080</th>\n",
       "      <td>0.126984</td>\n",
       "      <td>0.021168</td>\n",
       "      <td>0.29</td>\n",
       "      <td>0.1450</td>\n",
       "      <td>0.0</td>\n",
       "      <td>0.0</td>\n",
       "      <td>1.0</td>\n",
       "      <td>0.0</td>\n",
       "    </tr>\n",
       "    <tr>\n",
       "      <th>14082</th>\n",
       "      <td>0.206349</td>\n",
       "      <td>0.011568</td>\n",
       "      <td>0.38</td>\n",
       "      <td>0.2850</td>\n",
       "      <td>0.0</td>\n",
       "      <td>0.0</td>\n",
       "      <td>1.0</td>\n",
       "      <td>0.0</td>\n",
       "    </tr>\n",
       "  </tbody>\n",
       "</table>\n",
       "<p>9270 rows × 8 columns</p>\n",
       "</div>"
      ],
      "text/plain": [
       "       Book_length_overall  Price_overall  Completion  Minutes_listened  \\\n",
       "0                 0.206349       0.124882        0.99            0.7425   \n",
       "1                 0.285714       0.011568        0.00            0.0000   \n",
       "2                 0.285714       0.011568        0.00            0.0000   \n",
       "3                 0.206349       0.016525        0.42            0.3150   \n",
       "4                 0.285714       0.011568        0.22            0.2200   \n",
       "...                    ...            ...         ...               ...   \n",
       "14077             0.206349       0.021168        0.00            0.0000   \n",
       "14078             0.285714       0.032499        0.00            0.0000   \n",
       "14079             0.206349       0.011568        0.61            0.4575   \n",
       "14080             0.126984       0.021168        0.29            0.1450   \n",
       "14082             0.206349       0.011568        0.38            0.2850   \n",
       "\n",
       "       Rebuy  Number_of_purchases  Listened  Target  \n",
       "0        0.0                  0.0       1.0     0.0  \n",
       "1        0.0                  0.0       0.0     0.0  \n",
       "2        0.0                  0.0       0.0     0.0  \n",
       "3        0.0                  0.0       1.0     0.0  \n",
       "4        0.0                  0.0       1.0     0.0  \n",
       "...      ...                  ...       ...     ...  \n",
       "14077    0.0                  0.0       0.0     0.0  \n",
       "14078    0.0                  0.0       0.0     0.0  \n",
       "14079    0.0                  0.0       1.0     0.0  \n",
       "14080    0.0                  0.0       1.0     0.0  \n",
       "14082    0.0                  0.0       1.0     0.0  \n",
       "\n",
       "[9270 rows x 8 columns]"
      ]
     },
     "execution_count": 23,
     "metadata": {},
     "output_type": "execute_result"
    }
   ],
   "source": [
    "data"
   ]
  },
  {
   "cell_type": "markdown",
   "metadata": {},
   "source": [
    "# Model Development"
   ]
  },
  {
   "cell_type": "code",
   "execution_count": 44,
   "metadata": {},
   "outputs": [],
   "source": [
    "from sklearn.neighbors import KNeighborsClassifier\n",
    "from sklearn.linear_model import LogisticRegression\n",
    "from sklearn.ensemble import RandomForestClassifier\n",
    "from sklearn.svm import SVC\n",
    "\n",
    "from sklearn.model_selection import train_test_split, GridSearchCV\n",
    "from sklearn.metrics import confusion_matrix"
   ]
  },
  {
   "cell_type": "code",
   "execution_count": 25,
   "metadata": {},
   "outputs": [],
   "source": [
    "y = data['Target']\n",
    "X = data.drop('Target',axis=1)\n",
    "X_train, X_test, y_train, y_test = train_test_split(X,y,test_size=0.2)"
   ]
  },
  {
   "cell_type": "code",
   "execution_count": 41,
   "metadata": {},
   "outputs": [],
   "source": [
    "def performance(model, X_train, X_test, y_train, y_test):\n",
    "    model.fit(X_train,y_train)\n",
    "    accuracy = model.score(X_test,y_test)\n",
    "    conf_matrix = confusion_matrix(y_test,model.predict(X_test))\n",
    "    print(f\"ACCURACY:{accuracy}\")\n",
    "    print(f\"CONFUSION MATRIX:\\n{conf_matrix}\")"
   ]
  },
  {
   "cell_type": "code",
   "execution_count": 55,
   "metadata": {},
   "outputs": [],
   "source": [
    "def cross_validation(model,param_grid):\n",
    "    grid = GridSearchCV(model,param_grid,cv=5)\n",
    "    grid.fit(X_train,y_train)\n",
    "    estimator = grid.best_estimator_\n",
    "    accuracy = estimator.score(X_test,y_test)\n",
    "    params = grid.best_params_\n",
    "    print(f\"BEST PARAMETERS:{params}\")\n",
    "    print(f\"BEST ACCURACY:{accuracy}\")\n",
    "    "
   ]
  },
  {
   "cell_type": "markdown",
   "metadata": {},
   "source": [
    "## KNeighbors Classifier"
   ]
  },
  {
   "cell_type": "code",
   "execution_count": 42,
   "metadata": {},
   "outputs": [
    {
     "name": "stdout",
     "output_type": "stream",
     "text": [
      "ACCURACY:0.8586839266450917\n",
      "CONFUSION MATRIX:\n",
      "[[1429   59]\n",
      " [ 203  163]]\n"
     ]
    }
   ],
   "source": [
    "KN = KNeighborsClassifier()\n",
    "performance(KN,X_train,X_test,y_train,y_test)"
   ]
  },
  {
   "cell_type": "code",
   "execution_count": 56,
   "metadata": {},
   "outputs": [
    {
     "name": "stdout",
     "output_type": "stream",
     "text": [
      "BEST PARAMETERS:{'metric': 'manhattan', 'n_neighbors': 6}\n",
      "BEST ACCURACY:0.8673139158576052\n"
     ]
    }
   ],
   "source": [
    "param_KN = {'n_neighbors': np.arange(1, 20),\n",
    "              'metric': ['euclidean', 'manhattan']}\n",
    "cross_validation(KNeighborsClassifier(),param_KN)"
   ]
  },
  {
   "cell_type": "markdown",
   "metadata": {},
   "source": [
    "## Logistic Regression"
   ]
  },
  {
   "cell_type": "code",
   "execution_count": 57,
   "metadata": {},
   "outputs": [
    {
     "name": "stdout",
     "output_type": "stream",
     "text": [
      "ACCURACY:0.8705501618122977\n",
      "CONFUSION MATRIX:\n",
      "[[1487    1]\n",
      " [ 239  127]]\n"
     ]
    }
   ],
   "source": [
    "lr = LogisticRegression()\n",
    "performance(lr,X_train,X_test,y_train,y_test)"
   ]
  },
  {
   "cell_type": "markdown",
   "metadata": {},
   "source": [
    "## Support Vector Classification"
   ]
  },
  {
   "cell_type": "code",
   "execution_count": 59,
   "metadata": {},
   "outputs": [
    {
     "name": "stdout",
     "output_type": "stream",
     "text": [
      "ACCURACY:0.8705501618122977\n",
      "CONFUSION MATRIX:\n",
      "[[1488    0]\n",
      " [ 240  126]]\n"
     ]
    }
   ],
   "source": [
    "svc = SVC()\n",
    "performance(svc,X_train,X_test,y_train,y_test)"
   ]
  },
  {
   "cell_type": "code",
   "execution_count": 63,
   "metadata": {},
   "outputs": [
    {
     "name": "stdout",
     "output_type": "stream",
     "text": [
      "BEST PARAMETERS:{'C': 100, 'gamma': 1, 'kernel': 'rbf'}\n",
      "BEST ACCURACY:0.8710895361380798\n"
     ]
    }
   ],
   "source": [
    "param_svc = {'C':[1,10,100,1000],\n",
    "             'gamma':[1,0.1,0.001,0.0001], \n",
    "             'kernel':['linear','rbf']}\n",
    "cross_validation(SVC(),param_svc)"
   ]
  },
  {
   "cell_type": "markdown",
   "metadata": {},
   "source": [
    "## Random Forest Classifier"
   ]
  },
  {
   "cell_type": "code",
   "execution_count": 64,
   "metadata": {},
   "outputs": [
    {
     "name": "stdout",
     "output_type": "stream",
     "text": [
      "ACCURACY:0.8554476806903991\n",
      "CONFUSION MATRIX:\n",
      "[[1418   70]\n",
      " [ 198  168]]\n"
     ]
    }
   ],
   "source": [
    "rfc = RandomForestClassifier()\n",
    "performance(rfc,X_train,X_test,y_train,y_test)"
   ]
  },
  {
   "cell_type": "code",
   "execution_count": 65,
   "metadata": {},
   "outputs": [
    {
     "name": "stdout",
     "output_type": "stream",
     "text": [
      "BEST PARAMETERS:{'criterion': 'gini', 'max_depth': 5, 'min_samples_leaf': 10, 'min_samples_split': 3, 'n_estimators': 1500}\n",
      "BEST ACCURACY:0.8705501618122977\n"
     ]
    }
   ],
   "source": [
    "param_rfc = {'n_estimators':[100, 500, 1000, 1500],\n",
    "              'max_depth':[3, 5, 7, 10, 15, None], \n",
    "              'min_samples_split':[2, 3, 10], \n",
    "              'min_samples_leaf':[1, 3, 5, 7, 10], \n",
    "              'criterion':[\"gini\", \"entropy\"]}\n",
    "cross_validation(RandomForestClassifier(),param_rfc)"
   ]
  },
  {
   "cell_type": "code",
   "execution_count": null,
   "metadata": {},
   "outputs": [],
   "source": []
  }
 ],
 "metadata": {
  "kernelspec": {
   "display_name": "Python 3",
   "language": "python",
   "name": "python3"
  },
  "language_info": {
   "codemirror_mode": {
    "name": "ipython",
    "version": 3
   },
   "file_extension": ".py",
   "mimetype": "text/x-python",
   "name": "python",
   "nbconvert_exporter": "python",
   "pygments_lexer": "ipython3",
   "version": "3.8.3"
  }
 },
 "nbformat": 4,
 "nbformat_minor": 4
}
